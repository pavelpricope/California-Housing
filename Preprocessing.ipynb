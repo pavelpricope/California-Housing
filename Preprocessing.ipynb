{
 "cells": [
  {
   "cell_type": "code",
   "execution_count": 1,
   "metadata": {},
   "outputs": [],
   "source": [
    "import random   as rnd\n",
    "import pandas   as pd\n",
    "import numpy    as np\n",
    "import pandas   as pd\n",
    "import matplotlib\n",
    "import matplotlib.pyplot as plt\n",
    "\n",
    "from sklearn.linear_model    import LinearRegression\n",
    "from sklearn                 import preprocessing\n",
    "from sklearn.preprocessing   import MinMaxScaler, StandardScaler"
   ]
  },
  {
   "cell_type": "code",
   "execution_count": 2,
   "metadata": {},
   "outputs": [],
   "source": [
    "def ocean_prox_flatten(data):\n",
    "    ov = data.ocean_proximity.values\n",
    "    data['1h_ocean']    = [1 if i=='<1H OCEAN'  else 0 for i in ov]\n",
    "    data['island']      = [1 if i=='ISLAND'     else 0 for i in ov]\n",
    "    data['inland']      = [1 if i=='INLAND'     else 0 for i in ov]\n",
    "    data['near_ocean']  = [1 if i=='NEAR OCEAN' else 0 for i in ov]\n",
    "    data['near_bay']    = [1 if i=='NEAR BAY'   else 0 for i in ov]\n",
    "    data.drop(columns=['ocean_proximity'], inplace=True)\n",
    "    return data"
   ]
  },
  {
   "cell_type": "code",
   "execution_count": 3,
   "metadata": {},
   "outputs": [],
   "source": [
    "def deal_with_missing_values(data):\n",
    "    notna = data.total_bedrooms.notna()\n",
    "    nna_rooms = data.total_rooms.values[notna]\n",
    "    nna_beds = data.total_bedrooms.values[notna]\n",
    "    \n",
    "    model = LinearRegression()\n",
    "    reshape = lambda f, x, y: f(x.reshape(-1,1), y.reshape(-1,1))\n",
    "    \n",
    "    reshape(model.fit, nna_rooms, nna_beds)\n",
    "    score = reshape(model.score, nna_rooms, nna_beds)\n",
    "\n",
    "    isna = data.total_bedrooms.isna()\n",
    "    missing_bedrooms = model.predict(data.total_rooms.values[isna].reshape(-1,1))\n",
    "    data.total_bedrooms.loc[isna] = np.squeeze(missing_bedrooms)\n",
    "    \n",
    "    return data"
   ]
  },
  {
   "cell_type": "code",
   "execution_count": 4,
   "metadata": {},
   "outputs": [],
   "source": [
    "def deal_with_missing_values_median(data):\n",
    "    data['total_bedrooms'].fillna(data['total_bedrooms'].mean(), inplace = True)\n",
    "    return data"
   ]
  },
  {
   "cell_type": "code",
   "execution_count": 5,
   "metadata": {},
   "outputs": [],
   "source": [
    "def normalize(data):\n",
    "    scaler = MinMaxScaler() \n",
    "    scaled_values = scaler.fit_transform(data) \n",
    "    data.loc[:,:] = scaled_values\n",
    "    return data"
   ]
  },
  {
   "cell_type": "code",
   "execution_count": 6,
   "metadata": {},
   "outputs": [],
   "source": [
    "def encode(data):\n",
    "    lab_enc = preprocessing.LabelEncoder()\n",
    "    encoded = [lab_enc.fit_transform(i) for i in data.values]\n",
    "    data.loc[:,:] = encoded\n",
    "    return data"
   ]
  },
  {
   "cell_type": "code",
   "execution_count": 7,
   "metadata": {},
   "outputs": [],
   "source": [
    "def create_new_features(data):\n",
    "    data[\"avg_rooms\"] = data[\"total_rooms\"]/data[\"households\"]\n",
    "    data[\"people_per_house\"] = data[\"population\"]/data[\"households\"]\n",
    "    data = data.drop(\"total_rooms\", axis = 1)\n",
    "    data = data.drop(\"households\", axis = 1)    \n",
    "    data = data.drop(\"population\", axis = 1)\n",
    "    return data"
   ]
  },
  {
   "cell_type": "code",
   "execution_count": 8,
   "metadata": {},
   "outputs": [],
   "source": [
    "def remove_outliers(data):\n",
    "    data=data.loc[data['median_house_value']<500001,:]\n",
    "    data=data[data['population']<25000]\n",
    "    return data"
   ]
  },
  {
   "cell_type": "code",
   "execution_count": 9,
   "metadata": {},
   "outputs": [],
   "source": [
    "def preprocess(data, normalized, encoded, dataframe):\n",
    "    p_data = data.copy()\n",
    "    \n",
    "    p_data = ocean_prox_flatten(p_data)\n",
    "    \n",
    "    p_data = deal_with_missing_values(p_data)\n",
    "    \n",
    "    #p_data = remove_outliers(p_data)\n",
    "    \n",
    "    p_data = create_new_features(p_data)\n",
    "    \n",
    "    if(normalized == True):p_data = normalize(p_data)\n",
    "    if(encoded == True):p_data = encode(p_data)\n",
    "    \n",
    "    holdout = p_data.sample(n=1000)\n",
    "    p_data = p_data.drop(holdout.index)\n",
    "\n",
    "    y = p_data.median_house_value\n",
    "    X = p_data.drop(columns=['median_house_value'], inplace=False)\n",
    "\n",
    "    y_h = holdout.median_house_value\n",
    "    X_h = holdout.drop(columns=['median_house_value'], inplace=False)\n",
    "    \n",
    "    if(not dataframe):\n",
    "        y = y.values.reshape(-1,1)\n",
    "        X = X.values\n",
    "        y_h = y_h.values.reshape(-1,1)\n",
    "        X_h = X_h.values\n",
    "\n",
    "    return X, y, X_h, y_h"
   ]
  },
  {
   "cell_type": "code",
   "execution_count": null,
   "metadata": {},
   "outputs": [],
   "source": []
  },
  {
   "cell_type": "code",
   "execution_count": null,
   "metadata": {},
   "outputs": [],
   "source": []
  }
 ],
 "metadata": {
  "kernelspec": {
   "display_name": "Python 3",
   "language": "python",
   "name": "python3"
  },
  "language_info": {
   "codemirror_mode": {
    "name": "ipython",
    "version": 3
   },
   "file_extension": ".py",
   "mimetype": "text/x-python",
   "name": "python",
   "nbconvert_exporter": "python",
   "pygments_lexer": "ipython3",
   "version": "3.6.5"
  }
 },
 "nbformat": 4,
 "nbformat_minor": 2
}
